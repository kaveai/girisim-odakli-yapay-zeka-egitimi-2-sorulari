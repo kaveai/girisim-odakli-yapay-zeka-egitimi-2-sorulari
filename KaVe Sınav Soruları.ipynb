{
 "cells": [
  {
   "cell_type": "markdown",
   "metadata": {},
   "source": [
    "# Kave Girişim Odaklı Yapay Zeka Eğitimi Sınav Sorusu\n",
    "\n",
    "Bu çalışma kapsamında sizden öncelikle elementer düzeyde fonksiyonlar yazmanızı isteyeceğiz. Sonrasında ise bu yazdığınız fonksiyonları kullanarak yeni bir fonksiyon ile verilen cümleler arasında özetleme yapmanızı bekliyoruz. Sonrasında ise bu özetleme yapan fonksiyonu [Streamlit](https://streamlit.io/) ile bir uygulama haline getirip kodlarını bizimle paylaşmanızı bekliyoruz.\n",
    "\n",
    "# Önemli Not: Boyutu çok büyük olduğu için TR Model'i kesinlikle dosyanızla göndermeyin. Yanlızca jupyter notebook'u paylaşınız.\n",
    "\n",
    "Günün sonunda ulaşacağımız çözüm [Streamlit](https://streamlit.io/) kütüphanesini ve [Word2Vec](https://en.wikipedia.org/wiki/Word2vec) modelini kullanarak otomatik olarak ``özetleme`` yapan bir **uygulamadır**. \n",
    "\n",
    "N adet cümle için\n",
    "*\tCümleler kelimelere ayrılır\n",
    "*\tStopwords kelimeleri çıkarılır\n",
    "*\tHer cümle için, içidenki kelimenın word2vec vektörlerinin ortalaması alınır\n",
    "*\tCümlelerin cosinüs benzerliği ile NxN benzerlik matrisi oluşturlur\n",
    "*\tMatris satır toplamı alınır, skor 1xN  vektörü oluşturulur\n",
    "*\tSkor vektöründeki k = 3 adet en yüksek skora sahip cümle tespit edilir\n",
    "*\tBu k = 3 cümle özet olarak döndürlür.\n"
   ]
  },
  {
   "cell_type": "markdown",
   "metadata": {},
   "source": [
    "### Dot Product (İç Çarpım) hesaplayan bir python fonksiyonu yazın\n",
    "Fonksiyonun Matematiksel Formülü;\n",
    "\n",
    "\\begin{align}\n",
    "X^{T}Y = \\sum_{i}^{}X_{i}Y_{i}\\\n",
    "\\end{align}"
   ]
  },
  {
   "cell_type": "code",
   "execution_count": 11,
   "metadata": {},
   "outputs": [],
   "source": [
    "def dot(X, Y):\n",
    "    pass #Bu kısmı doldurunuz."
   ]
  },
  {
   "cell_type": "code",
   "execution_count": 4,
   "metadata": {},
   "outputs": [
    {
     "data": {
      "text/plain": [
       "5"
      ]
     },
     "execution_count": 4,
     "metadata": {},
     "output_type": "execute_result"
    }
   ],
   "source": [
    "dot(X=[1,2],Y=[1,2])"
   ]
  },
  {
   "cell_type": "markdown",
   "metadata": {},
   "source": [
    "### Bir önceki dot(..) fonksiyonunu kullanarak, Norm hesaplayan bir python fonksiyonu yazınız\n",
    "Fonksiyonun Matematiksel Formülü;\n",
    "\\begin{align}\n",
    "\\left \\| X \\right \\| = \\sqrt{\\sum_{i}^{}X_{i}^{2}}\\\n",
    "\\end{align}"
   ]
  },
  {
   "cell_type": "code",
   "execution_count": 10,
   "metadata": {},
   "outputs": [],
   "source": [
    "def norm(X):\n",
    "    pass #Bu kısmı doldurunuz."
   ]
  },
  {
   "cell_type": "code",
   "execution_count": 6,
   "metadata": {},
   "outputs": [
    {
     "data": {
      "text/plain": [
       "2.23606797749979"
      ]
     },
     "execution_count": 6,
     "metadata": {},
     "output_type": "execute_result"
    }
   ],
   "source": [
    "norm(X=[1,2])"
   ]
  },
  {
   "cell_type": "markdown",
   "metadata": {},
   "source": [
    "### Önceki dot(..) ve norm(…) fonksiyonunlarını kullanarak kosinüs benzerliğini bulan bir fonksiyon yazınız.\n",
    "Fonksiyonun Matematiksel Formülü;\n",
    "\\begin{align}\n",
    "\\cos(X, Y) = \\frac{X^{T}Y}{\\left \\| X \\right \\|\\left \\| Y \\right \\|}\\\n",
    "\\end{align}"
   ]
  },
  {
   "cell_type": "code",
   "execution_count": 9,
   "metadata": {},
   "outputs": [],
   "source": [
    "def cos(X, Y):\n",
    "    pass #Bu kısmı doldurunuz."
   ]
  },
  {
   "cell_type": "code",
   "execution_count": 8,
   "metadata": {},
   "outputs": [
    {
     "data": {
      "text/plain": [
       "0.9999999999999998"
      ]
     },
     "execution_count": 8,
     "metadata": {},
     "output_type": "execute_result"
    }
   ],
   "source": [
    "cos(X=[1,2],Y=[1,2])"
   ]
  },
  {
   "cell_type": "markdown",
   "metadata": {},
   "source": [
    "### Word2Vec Kullanılarak Kelimelerin Vektörünü çıkaran bir fonksiyon yazın;\n",
    "\n",
    "Word2Vec Modeli: https://github.com/akoksal/Turkish-Word2Vec 'ni yandaki adresten indiriniz ve bu jupyter notebook ile aynı dizine koyunuz."
   ]
  },
  {
   "cell_type": "code",
   "execution_count": 14,
   "metadata": {},
   "outputs": [],
   "source": [
    "import re\n",
    "import time\n",
    "import numpy as np\n",
    "import pandas as pd\n",
    "from gensim.models import KeyedVectors\n",
    "from sklearn.metrics.pairwise import cosine_similarity"
   ]
  },
  {
   "cell_type": "code",
   "execution_count": 15,
   "metadata": {},
   "outputs": [],
   "source": [
    "# Trmodel ağırlıklarının kodun olduğu notebook ile aynı klasörde olduğundan emin olun :)\n",
    "word_vectors = KeyedVectors.load_word2vec_format('trmodel', binary=True)"
   ]
  },
  {
   "cell_type": "code",
   "execution_count": 16,
   "metadata": {},
   "outputs": [
    {
     "data": {
      "text/plain": [
       "array([[0.6765889]], dtype=float32)"
      ]
     },
     "execution_count": 16,
     "metadata": {},
     "output_type": "execute_result"
    }
   ],
   "source": [
    "cosine_similarity(word_vectors['elma'].reshape(1, -1), \n",
    "                  word_vectors['armut'].reshape(1, -1))"
   ]
  },
  {
   "cell_type": "code",
   "execution_count": 17,
   "metadata": {},
   "outputs": [
    {
     "data": {
      "text/html": [
       "<div>\n",
       "<style scoped>\n",
       "    .dataframe tbody tr th:only-of-type {\n",
       "        vertical-align: middle;\n",
       "    }\n",
       "\n",
       "    .dataframe tbody tr th {\n",
       "        vertical-align: top;\n",
       "    }\n",
       "\n",
       "    .dataframe thead th {\n",
       "        text-align: right;\n",
       "    }\n",
       "</style>\n",
       "<table border=\"1\" class=\"dataframe\">\n",
       "  <thead>\n",
       "    <tr style=\"text-align: right;\">\n",
       "      <th></th>\n",
       "      <th># Turkish stopwords from LUCENE-559</th>\n",
       "    </tr>\n",
       "  </thead>\n",
       "  <tbody>\n",
       "    <tr>\n",
       "      <th>0</th>\n",
       "      <td># merged with the list from \"Information Retri...</td>\n",
       "    </tr>\n",
       "    <tr>\n",
       "      <th>1</th>\n",
       "      <td>#   (http://www.users.muohio.edu/canf/papers/J...</td>\n",
       "    </tr>\n",
       "    <tr>\n",
       "      <th>2</th>\n",
       "      <td>acaba</td>\n",
       "    </tr>\n",
       "    <tr>\n",
       "      <th>3</th>\n",
       "      <td>altmış</td>\n",
       "    </tr>\n",
       "    <tr>\n",
       "      <th>4</th>\n",
       "      <td>altı</td>\n",
       "    </tr>\n",
       "    <tr>\n",
       "      <th>5</th>\n",
       "      <td>ama</td>\n",
       "    </tr>\n",
       "  </tbody>\n",
       "</table>\n",
       "</div>"
      ],
      "text/plain": [
       "                 # Turkish stopwords from LUCENE-559\n",
       "0  # merged with the list from \"Information Retri...\n",
       "1  #   (http://www.users.muohio.edu/canf/papers/J...\n",
       "2                                              acaba\n",
       "3                                             altmış\n",
       "4                                               altı\n",
       "5                                                ama"
      ]
     },
     "metadata": {},
     "output_type": "display_data"
    }
   ],
   "source": [
    "url ='https://raw.githubusercontent.com/sgsinclair/trombone/master/src/main/resources/org/voyanttools/trombone/keywords/stop.tr.turkish-lucene.txt'\n",
    "data = pd.read_csv(url)\n",
    "display(data.head(6))\n",
    "stpwrds = set(data[2:].iloc[:, 0].values)"
   ]
  },
  {
   "cell_type": "code",
   "execution_count": 18,
   "metadata": {},
   "outputs": [],
   "source": [
    "# Cümle vektorizasyonu fonksiyonu\n",
    "def vectorize(cumle, stpwrds = stpwrds):\n",
    "    # İlk önce cümledeki noktalama işaretlerini kaldırınız. \n",
    "    # Cümleyi kelimeler haline getiriniz.\n",
    "    # Stopwords listesinde yer almayan her kelimenin vektörünü bulup ortalamasını alın.\n",
    "    pass "
   ]
  },
  {
   "cell_type": "code",
   "execution_count": 20,
   "metadata": {
    "collapsed": true,
    "jupyter": {
     "outputs_hidden": true
    },
    "tags": []
   },
   "outputs": [
    {
     "data": {
      "text/plain": [
       "array([[ 4.35784140e-01, -6.52602014e-01, -2.42230614e-01,\n",
       "        -4.78725781e-02, -1.34974845e+00,  7.88170056e-01,\n",
       "        -4.63615636e-01, -6.79228100e-01, -6.11254958e-01,\n",
       "        -2.36701431e-01,  6.76105890e-01,  4.69583552e-02,\n",
       "         5.83227277e-01, -7.65251269e-02,  7.85214848e-01,\n",
       "         7.69465957e-01,  8.91500463e-01, -3.22855718e-01,\n",
       "         5.88590903e-01,  2.00786686e-01,  5.28120076e-02,\n",
       "         1.72456552e-01, -5.08031352e-01, -7.93878832e-01,\n",
       "        -8.42079242e-01,  5.90859806e-01,  5.16664548e-01,\n",
       "        -8.29266727e-01, -5.98830293e-01, -1.22146733e-01,\n",
       "        -1.71913267e-01,  2.08530908e-01,  6.12908514e-01,\n",
       "         5.01655663e-01,  4.37598710e-01,  3.29364703e-01,\n",
       "         4.56270861e-01, -7.26923235e-01,  3.63677361e-01,\n",
       "        -2.85599538e-01,  1.29285961e-01,  6.86375128e-01,\n",
       "        -1.00125790e-01,  3.70153718e-01, -6.27783261e-02,\n",
       "         3.90841133e-01,  7.20869855e-02,  2.85923051e-01,\n",
       "        -3.81518474e-01,  8.21108485e-01,  9.08758684e-02,\n",
       "         4.09580797e-01,  2.85726635e-01, -2.39357175e-01,\n",
       "         1.61242438e-01,  6.83577422e-01,  1.13021599e-01,\n",
       "        -3.84351160e-01,  1.89448849e-01,  4.72937854e-01,\n",
       "        -1.04878719e-04, -1.58827675e-01, -5.98268374e-01,\n",
       "        -1.24917610e-01, -4.00799304e-01, -2.41280993e-01,\n",
       "        -4.32212525e-01, -5.85230837e-02,  3.25420493e-01,\n",
       "        -2.06281886e-01, -1.68981850e-02,  7.84310848e-02,\n",
       "        -1.89095187e-01, -7.88696572e-01, -8.92055338e-01,\n",
       "         3.90465024e-02,  1.48053792e-01,  4.24297050e-01,\n",
       "         1.08154465e-01, -4.97163768e-01, -7.90138632e-01,\n",
       "         6.00645843e-01,  6.78707099e-01,  3.15728684e-02,\n",
       "        -3.98477751e-01,  5.77046771e-01, -4.49824855e-01,\n",
       "         1.76671769e-01,  1.94961796e-01, -1.90554125e-01,\n",
       "         1.73780852e-01, -1.97083602e-01, -3.89159502e-01,\n",
       "        -1.41377543e-01,  6.66079437e-01, -3.01959169e-01,\n",
       "        -1.25898595e+00,  1.63836445e+00,  2.49178249e-01,\n",
       "         8.29307220e-01, -3.12697768e-01, -9.93001803e-02,\n",
       "         1.00743475e-01, -8.07913753e-01, -7.69217405e-01,\n",
       "        -4.65606575e-02, -8.34769818e-01, -3.34097851e-01,\n",
       "         6.09288452e-01, -4.80178669e-01, -4.10561052e-02,\n",
       "        -1.37804548e-02,  1.91461742e-02,  4.43231210e-01,\n",
       "        -2.31064800e-01, -6.86036648e-01,  6.70432119e-02,\n",
       "         7.00877368e-01, -2.98391607e-01, -1.16675196e-01,\n",
       "        -2.21174491e-01,  5.15984007e-01,  7.67425843e-01,\n",
       "         1.84343159e-01, -4.49199105e-02, -2.30603692e-01,\n",
       "         5.50795545e-01, -3.39887991e-01,  1.42590457e-01,\n",
       "        -4.30776279e-01, -4.51223527e-01,  4.37274258e-01,\n",
       "         1.29938139e+00,  1.13615153e+00, -6.51052619e-01,\n",
       "         5.49224834e-01, -6.14457273e-01,  7.25495803e-01,\n",
       "         6.65303854e-01, -4.47031343e-01,  6.87504364e-01,\n",
       "        -9.60122203e-01,  5.16241292e-01, -3.51677059e-02,\n",
       "        -8.22372581e-01, -2.35507064e-01, -5.23633234e-01,\n",
       "         9.17632828e-02, -1.37372488e-01,  1.16077381e-01,\n",
       "         1.29967750e+00, -5.35216816e-02,  1.43996040e-01,\n",
       "        -1.25753861e-02, -2.71572992e-02, -9.04341685e-01,\n",
       "        -3.60367790e-01,  7.77959675e-01, -4.21958704e-01,\n",
       "         4.65605928e-02,  2.25414092e-01, -1.40521037e-01,\n",
       "         6.82505189e-01, -1.62112067e-02,  6.39783402e-01,\n",
       "        -5.40644613e-01, -1.05176067e+00,  4.21143328e-01,\n",
       "         2.77249299e-01, -6.45726579e-01,  1.24361590e-02,\n",
       "         3.00118017e-01,  2.79683669e-02,  2.42382484e-01,\n",
       "        -5.50022086e-01,  7.60834781e-01,  2.83106647e-01,\n",
       "        -1.25670683e-01, -3.64923348e-01,  4.22950834e-01,\n",
       "        -4.35930644e-01, -8.35833984e-01,  5.56575264e-01,\n",
       "         1.68910835e-01, -2.22478104e-01, -4.10708954e-01,\n",
       "        -4.02762979e-01, -6.09335795e-01,  3.15911136e-01,\n",
       "         5.38217425e-02, -1.41950333e-01, -4.13156542e-01,\n",
       "        -7.82738428e-01, -6.43082274e-01, -4.59548432e-01,\n",
       "        -5.54608316e-01, -2.79797393e-01, -5.50501365e-01,\n",
       "         2.75550261e-02, -8.27304905e-01, -4.89228467e-03,\n",
       "        -5.12392624e-01, -4.48471973e-01,  1.14658684e+00,\n",
       "         3.17870023e-01, -2.43392425e-01,  4.63962642e-01,\n",
       "         1.09849210e+00,  4.64518989e-02, -7.64792725e-01,\n",
       "        -8.98943017e-01, -2.07341030e-01, -4.68806212e-01,\n",
       "        -4.21309955e-02,  1.33816834e+00,  6.65353401e-01,\n",
       "         3.39410553e-01, -6.17781041e-01, -1.15940516e+00,\n",
       "         8.40116300e-01, -3.64792277e-01, -1.65683751e-02,\n",
       "         3.08219451e-01,  1.13341243e-01,  4.77507137e-01,\n",
       "         2.34802742e-01, -3.23368346e-01,  2.66048012e-01,\n",
       "        -2.65275953e-01,  6.00895025e-02,  2.32969467e-01,\n",
       "        -6.76035430e-01, -1.75412821e-01,  9.72742194e-01,\n",
       "        -6.44679068e-01, -1.94126930e-01,  1.00304380e+00,\n",
       "        -6.37355973e-01, -2.78676232e-01,  9.95774344e-01,\n",
       "        -3.62672466e-01, -4.92214339e-01,  4.19116614e-01,\n",
       "        -7.95562113e-01,  3.23769811e-01, -8.69208102e-02,\n",
       "        -2.04561258e-01, -1.09428077e-01, -4.41574727e-01,\n",
       "        -6.81510412e-01,  1.05942835e-02,  1.14055221e-01,\n",
       "        -2.24314039e-01, -2.86624932e-01,  1.60621842e-01,\n",
       "        -2.61091233e-02,  6.32828444e-01,  1.14293523e-01,\n",
       "         5.27461807e-01, -5.97563823e-01,  3.51671362e-01,\n",
       "        -5.01633581e-01,  7.40029815e-02, -2.52767252e-01,\n",
       "         4.51191772e-01, -2.53161139e-01, -7.43423581e-01,\n",
       "        -5.66028460e-01, -5.40614431e-01,  2.80608904e-01,\n",
       "        -3.92104739e-01,  5.06189907e-01, -1.76462568e-01,\n",
       "         3.08346572e-01, -3.88638611e-01, -1.98826737e-01,\n",
       "         2.59148692e-01, -4.50382409e-01,  3.53992768e-02,\n",
       "         1.35065685e+00,  3.68132989e-01,  3.74226203e-01,\n",
       "        -8.47892175e-01,  4.59805518e-01,  3.84503817e-01,\n",
       "        -1.16824321e+00,  2.38476100e-01,  5.61666405e-01,\n",
       "        -5.87997543e-01,  6.26676686e-01, -4.60247546e-01,\n",
       "        -1.39352667e-01,  1.94622551e-01,  7.45191197e-01,\n",
       "         8.01531225e-03, -4.36341840e-01, -2.10627280e-02,\n",
       "        -5.32898376e-01, -2.79223743e-01,  2.25058125e-01,\n",
       "        -4.86873033e-01,  1.50502558e-01,  1.83434060e-01,\n",
       "        -8.23535142e-01,  4.57939878e-01,  4.34959590e-01,\n",
       "         3.85602087e-01,  3.50149363e-01, -1.51492433e-01,\n",
       "        -3.84761743e-01, -8.29709483e-02,  5.94198912e-01,\n",
       "         6.97923987e-01,  9.90154073e-02,  8.53922823e-01,\n",
       "         5.96924325e-02,  2.03321728e-01, -5.63496965e-01,\n",
       "        -2.58313616e-02,  1.39599500e-01,  4.75495974e-01,\n",
       "        -7.99727673e-01, -8.34349717e-01,  3.61378370e-01,\n",
       "        -1.07058335e+00, -5.65371191e-01,  4.67548671e-01,\n",
       "        -2.46391073e-01,  4.02681421e-01, -1.40032031e+00,\n",
       "        -7.55101462e-01, -1.19023137e+00, -5.09268356e-01,\n",
       "         4.68634566e-03,  3.29312955e-02,  4.43637771e-01,\n",
       "         8.79200980e-01,  7.79167563e-03, -1.18456987e+00,\n",
       "        -6.86042180e-01, -1.88317336e-01,  8.48115329e-01,\n",
       "         2.45831678e-01, -7.83136784e-01,  5.79219234e-01,\n",
       "        -3.24443702e-01, -5.25760839e-01, -1.72902331e-01,\n",
       "         1.33729026e-02,  1.35694270e-02, -2.80471155e-01,\n",
       "        -8.14405839e-01, -6.03941251e-01,  1.05872129e-02,\n",
       "        -3.64985645e-01, -2.18640688e-01, -3.57136186e-01,\n",
       "        -5.63761139e-01,  5.37686449e-01,  7.84828189e-01,\n",
       "         9.74875323e-01,  1.97507853e-01,  8.07911716e-03,\n",
       "        -1.71836178e-01, -1.21261805e-01,  5.88104328e-01,\n",
       "        -7.06552828e-01, -1.24981264e+00,  4.13840664e-01,\n",
       "        -1.25218266e-01, -4.09917412e-01,  5.46275818e-02,\n",
       "        -8.29275178e-01,  1.97943260e-01, -5.12311479e-01,\n",
       "         8.84154936e-03, -1.85463908e-01,  5.39202680e-01,\n",
       "         5.53789002e-02,  3.66043512e-01,  1.30949267e+00,\n",
       "        -8.96049663e-02,  5.51390126e-02,  4.15585876e-01,\n",
       "         2.31204285e-01,  5.21195615e-01,  8.72478055e-01,\n",
       "         1.68541029e-01,  5.28228109e-02,  5.12006349e-01,\n",
       "         4.83638391e-01, -4.13150967e-01,  2.24310872e-01,\n",
       "        -1.55309221e-01,  2.62701839e-01, -1.21512860e+00,\n",
       "         4.72306895e-01,  1.59415459e-01,  2.50496392e-01,\n",
       "        -7.44260563e-01]])"
      ]
     },
     "execution_count": 20,
     "metadata": {},
     "output_type": "execute_result"
    }
   ],
   "source": [
    "vectorize('Fenerbahçe spor klubü ciddi başarılar kazandı sen ben ben')"
   ]
  },
  {
   "cell_type": "markdown",
   "metadata": {},
   "source": [
    "### Cümlelerin Word2Vec Vectorlerini ve Kosinüs Benzerliğini Kullanarak Özetleme Yapan Bir Fonksiyon Yazınız;"
   ]
  },
  {
   "cell_type": "code",
   "execution_count": 21,
   "metadata": {},
   "outputs": [],
   "source": [
    "sentences = [\"Fenerbahçe-Çaykur Rizespor maçına Atilla Szalai damgası! Vitor Pereira'nın o kararı\",\n",
    "             \"Fenerbahçe, Süper Lig'in 15. haftasında Çaykur Rizespor'u 4-0 mağlup ederek maç fazlasıyla ikinci sıraya yükseldi\",\n",
    "             'Galatasaray Lazio hazırlıklarına başladı',\n",
    "             'Son dakika haberi: 5 Aralık corona virüsü tablosu ve vaka sayısı Sağlık Bakanlığı tarafından açıklandı!',\n",
    "             'Bakan Akar, Katar Savunma Bakanı Atiyye ile görüştü']"
   ]
  },
  {
   "cell_type": "code",
   "execution_count": 22,
   "metadata": {},
   "outputs": [],
   "source": [
    "# Vectorize fonksiyonu kullanarak elimizdeki cümlelerin vektörlerini elde ediniz. \n",
    "# Kosinüs benzerliği ile bu 5 cümle için 5x5'lik bir benzerlik matrisi oluşturunuz.\n",
    "# Matris satır toplamını alınız, skor 1x5 vektörü oluşturunuz.\n",
    "# En yüksek skora sahip ilk 2 cümleyi döndürünüz."
   ]
  },
  {
   "cell_type": "markdown",
   "metadata": {},
   "source": [
    "# Bütün süreci fonksiyonlaştırıp, Streamlit ile Bir Uygulama Haline Getirin.\n",
    "\n",
    "Streamlit hakkında bilgi almak için;\n",
    "https://streamlit.io/"
   ]
  }
 ],
 "metadata": {
  "kernelspec": {
   "display_name": "Python 3",
   "language": "python",
   "name": "python3"
  },
  "language_info": {
   "codemirror_mode": {
    "name": "ipython",
    "version": 3
   },
   "file_extension": ".py",
   "mimetype": "text/x-python",
   "name": "python",
   "nbconvert_exporter": "python",
   "pygments_lexer": "ipython3",
   "version": "3.8.5"
  }
 },
 "nbformat": 4,
 "nbformat_minor": 4
}
